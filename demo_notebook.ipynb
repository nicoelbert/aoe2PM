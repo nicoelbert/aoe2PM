{
 "cells": [
  {
   "cell_type": "markdown",
   "metadata": {},
   "source": [
    "## Demo Notebook\n",
    "\n"
   ]
  },
  {
   "cell_type": "code",
   "execution_count": 1,
   "metadata": {},
   "outputs": [
    {
     "name": "stdout",
     "output_type": "stream",
     "text": [
      "10 Matches processed successfully. Starting OCEL export.\n",
      "Export of  10  matches completed.\n"
     ]
    }
   ],
   "source": [
    "from aoe2PM import aoeOCEL\n",
    "import os\n",
    "\n",
    "\n",
    "recordfile_path = './data/recordfiles/'\n",
    "db_path = './out/aoe_data_ocel.sqlite'\n",
    "masterdata_path = './data/masterdata/'\n",
    "\n",
    "#load a list match ids from the recordfiles in the data folder\n",
    "recordfiles = os.listdir(recordfile_path)\n",
    "\n",
    "#extract the match id from the filename\n",
    "match_ids = [int(file.split('_')[-1].split('.')[0]) for file in recordfiles]\n",
    "\n",
    "#pass the list of match ids to the exportOCEL_fromRecordfile function - Set goal to 10 to only export the first 10 matches\n",
    "aoeOCEL.exportOCEL_fromRecordfile(match_ids, goal = 10, db_path = db_path, recordfile_path = recordfile_path, masterdata_path = masterdata_path)\n",
    "\n",
    "# .sql file is exported to db_path\n"
   ]
  }
 ],
 "metadata": {
  "kernelspec": {
   "display_name": "myenv_kernel",
   "language": "python",
   "name": "myenv_kernel"
  },
  "language_info": {
   "codemirror_mode": {
    "name": "ipython",
    "version": 3
   },
   "file_extension": ".py",
   "mimetype": "text/x-python",
   "name": "python",
   "nbconvert_exporter": "python",
   "pygments_lexer": "ipython3",
   "version": "3.8.2"
  }
 },
 "nbformat": 4,
 "nbformat_minor": 2
}
